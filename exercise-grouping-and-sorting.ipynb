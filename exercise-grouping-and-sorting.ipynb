{
 "cells": [
  {
   "cell_type": "markdown",
   "id": "33f4266b",
   "metadata": {
    "papermill": {
     "duration": 0.018248,
     "end_time": "2022-04-20T12:17:08.531872",
     "exception": false,
     "start_time": "2022-04-20T12:17:08.513624",
     "status": "completed"
    },
    "tags": []
   },
   "source": [
    "**This notebook is an exercise in the [Pandas](https://www.kaggle.com/learn/pandas) course.  You can reference the tutorial at [this link](https://www.kaggle.com/residentmario/grouping-and-sorting).**\n",
    "\n",
    "---\n"
   ]
  },
  {
   "cell_type": "markdown",
   "id": "5fd2425d",
   "metadata": {
    "papermill": {
     "duration": 0.016693,
     "end_time": "2022-04-20T12:17:08.565772",
     "exception": false,
     "start_time": "2022-04-20T12:17:08.549079",
     "status": "completed"
    },
    "tags": []
   },
   "source": [
    "# Introduction\n",
    "\n",
    "In these exercises we'll apply groupwise analysis to our dataset.\n",
    "\n",
    "Run the code cell below to load the data before running the exercises."
   ]
  },
  {
   "cell_type": "code",
   "execution_count": 1,
   "id": "15dc8a65",
   "metadata": {
    "execution": {
     "iopub.execute_input": "2022-04-20T12:17:08.600422Z",
     "iopub.status.busy": "2022-04-20T12:17:08.599695Z",
     "iopub.status.idle": "2022-04-20T12:17:11.494267Z",
     "shell.execute_reply": "2022-04-20T12:17:11.493649Z"
    },
    "papermill": {
     "duration": 2.914624,
     "end_time": "2022-04-20T12:17:11.496466",
     "exception": false,
     "start_time": "2022-04-20T12:17:08.581842",
     "status": "completed"
    },
    "tags": []
   },
   "outputs": [
    {
     "name": "stdout",
     "output_type": "stream",
     "text": [
      "Setup complete.\n"
     ]
    }
   ],
   "source": [
    "import pandas as pd\n",
    "\n",
    "reviews = pd.read_csv(\"../input/wine-reviews/winemag-data-130k-v2.csv\", index_col=0)\n",
    "#pd.set_option(\"display.max_rows\", 5)\n",
    "\n",
    "from learntools.core import binder; binder.bind(globals())\n",
    "from learntools.pandas.grouping_and_sorting import *\n",
    "print(\"Setup complete.\")"
   ]
  },
  {
   "cell_type": "markdown",
   "id": "b0b3e4bf",
   "metadata": {
    "papermill": {
     "duration": 0.01655,
     "end_time": "2022-04-20T12:17:11.530641",
     "exception": false,
     "start_time": "2022-04-20T12:17:11.514091",
     "status": "completed"
    },
    "tags": []
   },
   "source": [
    "# Exercises"
   ]
  },
  {
   "cell_type": "markdown",
   "id": "4c4b65d4",
   "metadata": {
    "papermill": {
     "duration": 0.016179,
     "end_time": "2022-04-20T12:17:11.563643",
     "exception": false,
     "start_time": "2022-04-20T12:17:11.547464",
     "status": "completed"
    },
    "tags": []
   },
   "source": [
    "## 1.\n",
    "Who are the most common wine reviewers in the dataset? Create a `Series` whose index is the `taster_twitter_handle` category from the dataset, and whose values count how many reviews each person wrote."
   ]
  },
  {
   "cell_type": "code",
   "execution_count": 2,
   "id": "843d9b7e",
   "metadata": {
    "execution": {
     "iopub.execute_input": "2022-04-20T12:17:11.599784Z",
     "iopub.status.busy": "2022-04-20T12:17:11.599165Z",
     "iopub.status.idle": "2022-04-20T12:17:11.626037Z",
     "shell.execute_reply": "2022-04-20T12:17:11.625164Z"
    },
    "papermill": {
     "duration": 0.047481,
     "end_time": "2022-04-20T12:17:11.627770",
     "exception": false,
     "start_time": "2022-04-20T12:17:11.580289",
     "status": "completed"
    },
    "tags": []
   },
   "outputs": [
    {
     "data": {
      "application/javascript": [
       "parent.postMessage({\"jupyterEvent\": \"custom.exercise_interaction\", \"data\": {\"outcomeType\": 1, \"valueTowardsCompletion\": 0.16666666666666666, \"interactionType\": 1, \"questionType\": 1, \"questionId\": \"1_ReviewsWritten\", \"learnToolsVersion\": \"0.3.4\", \"failureMessage\": \"\", \"exceptionClass\": \"\", \"trace\": \"\"}}, \"*\")"
      ],
      "text/plain": [
       "<IPython.core.display.Javascript object>"
      ]
     },
     "metadata": {},
     "output_type": "display_data"
    },
    {
     "data": {
      "text/markdown": [
       "<span style=\"color:#33cc33\">Correct:</span> \n",
       "\n",
       "\n",
       "```python\n",
       "reviews_written = reviews.groupby('taster_twitter_handle').size()\n",
       "```\n",
       "or\n",
       "```python\n",
       "reviews_written = reviews.groupby('taster_twitter_handle').taster_twitter_handle.count()\n",
       "```\n"
      ],
      "text/plain": [
       "Correct: \n",
       "\n",
       "\n",
       "```python\n",
       "reviews_written = reviews.groupby('taster_twitter_handle').size()\n",
       "```\n",
       "or\n",
       "```python\n",
       "reviews_written = reviews.groupby('taster_twitter_handle').taster_twitter_handle.count()\n",
       "```"
      ]
     },
     "metadata": {},
     "output_type": "display_data"
    }
   ],
   "source": [
    "# Your code here\n",
    "reviews_written = reviews.groupby('taster_twitter_handle').taster_twitter_handle.count()\n",
    "\n",
    "# Check your answer\n",
    "q1.check()"
   ]
  },
  {
   "cell_type": "code",
   "execution_count": 3,
   "id": "8dcf4983",
   "metadata": {
    "execution": {
     "iopub.execute_input": "2022-04-20T12:17:11.663880Z",
     "iopub.status.busy": "2022-04-20T12:17:11.663601Z",
     "iopub.status.idle": "2022-04-20T12:17:11.666421Z",
     "shell.execute_reply": "2022-04-20T12:17:11.665869Z"
    },
    "papermill": {
     "duration": 0.02288,
     "end_time": "2022-04-20T12:17:11.668148",
     "exception": false,
     "start_time": "2022-04-20T12:17:11.645268",
     "status": "completed"
    },
    "tags": []
   },
   "outputs": [],
   "source": [
    "#q1.hint()\n",
    "#q1.solution()"
   ]
  },
  {
   "cell_type": "markdown",
   "id": "784e9d93",
   "metadata": {
    "papermill": {
     "duration": 0.01685,
     "end_time": "2022-04-20T12:17:11.702802",
     "exception": false,
     "start_time": "2022-04-20T12:17:11.685952",
     "status": "completed"
    },
    "tags": []
   },
   "source": [
    "## 2.\n",
    "What is the best wine I can buy for a given amount of money? Create a `Series` whose index is wine prices and whose values is the maximum number of points a wine costing that much was given in a review. Sort the values by price, ascending (so that `4.0` dollars is at the top and `3300.0` dollars is at the bottom)."
   ]
  },
  {
   "cell_type": "code",
   "execution_count": 4,
   "id": "1a6ef354",
   "metadata": {
    "execution": {
     "iopub.execute_input": "2022-04-20T12:17:11.740338Z",
     "iopub.status.busy": "2022-04-20T12:17:11.740058Z",
     "iopub.status.idle": "2022-04-20T12:17:11.752035Z",
     "shell.execute_reply": "2022-04-20T12:17:11.751241Z"
    },
    "papermill": {
     "duration": 0.032469,
     "end_time": "2022-04-20T12:17:11.754190",
     "exception": false,
     "start_time": "2022-04-20T12:17:11.721721",
     "status": "completed"
    },
    "tags": []
   },
   "outputs": [
    {
     "data": {
      "application/javascript": [
       "parent.postMessage({\"jupyterEvent\": \"custom.exercise_interaction\", \"data\": {\"outcomeType\": 1, \"valueTowardsCompletion\": 0.16666666666666666, \"interactionType\": 1, \"questionType\": 1, \"questionId\": \"2_BestRatingPerPrice\", \"learnToolsVersion\": \"0.3.4\", \"failureMessage\": \"\", \"exceptionClass\": \"\", \"trace\": \"\"}}, \"*\")"
      ],
      "text/plain": [
       "<IPython.core.display.Javascript object>"
      ]
     },
     "metadata": {},
     "output_type": "display_data"
    },
    {
     "data": {
      "text/markdown": [
       "<span style=\"color:#33cc33\">Correct</span>"
      ],
      "text/plain": [
       "Correct"
      ]
     },
     "metadata": {},
     "output_type": "display_data"
    }
   ],
   "source": [
    "best_rating_per_price = reviews.groupby('price')['points'].max().sort_index()\n",
    "\n",
    "# Check your answer\n",
    "q2.check()"
   ]
  },
  {
   "cell_type": "code",
   "execution_count": 5,
   "id": "94ddac63",
   "metadata": {
    "execution": {
     "iopub.execute_input": "2022-04-20T12:17:11.794087Z",
     "iopub.status.busy": "2022-04-20T12:17:11.793213Z",
     "iopub.status.idle": "2022-04-20T12:17:11.796876Z",
     "shell.execute_reply": "2022-04-20T12:17:11.796108Z"
    },
    "papermill": {
     "duration": 0.025664,
     "end_time": "2022-04-20T12:17:11.798731",
     "exception": false,
     "start_time": "2022-04-20T12:17:11.773067",
     "status": "completed"
    },
    "tags": []
   },
   "outputs": [],
   "source": [
    "#q2.hint()\n",
    "#q2.solution()"
   ]
  },
  {
   "cell_type": "markdown",
   "id": "fbe1773d",
   "metadata": {
    "papermill": {
     "duration": 0.017968,
     "end_time": "2022-04-20T12:17:11.835154",
     "exception": false,
     "start_time": "2022-04-20T12:17:11.817186",
     "status": "completed"
    },
    "tags": []
   },
   "source": [
    "## 3.\n",
    "What are the minimum and maximum prices for each `variety` of wine? Create a `DataFrame` whose index is the `variety` category from the dataset and whose values are the `min` and `max` values thereof."
   ]
  },
  {
   "cell_type": "code",
   "execution_count": 6,
   "id": "ffc784e3",
   "metadata": {
    "execution": {
     "iopub.execute_input": "2022-04-20T12:17:11.872694Z",
     "iopub.status.busy": "2022-04-20T12:17:11.872450Z",
     "iopub.status.idle": "2022-04-20T12:17:11.894106Z",
     "shell.execute_reply": "2022-04-20T12:17:11.893335Z"
    },
    "papermill": {
     "duration": 0.042891,
     "end_time": "2022-04-20T12:17:11.896090",
     "exception": false,
     "start_time": "2022-04-20T12:17:11.853199",
     "status": "completed"
    },
    "tags": []
   },
   "outputs": [
    {
     "data": {
      "application/javascript": [
       "parent.postMessage({\"jupyterEvent\": \"custom.exercise_interaction\", \"data\": {\"outcomeType\": 1, \"valueTowardsCompletion\": 0.16666666666666666, \"interactionType\": 1, \"questionType\": 1, \"questionId\": \"3_PriceExtremes\", \"learnToolsVersion\": \"0.3.4\", \"failureMessage\": \"\", \"exceptionClass\": \"\", \"trace\": \"\"}}, \"*\")"
      ],
      "text/plain": [
       "<IPython.core.display.Javascript object>"
      ]
     },
     "metadata": {},
     "output_type": "display_data"
    },
    {
     "data": {
      "text/markdown": [
       "<span style=\"color:#33cc33\">Correct</span>"
      ],
      "text/plain": [
       "Correct"
      ]
     },
     "metadata": {},
     "output_type": "display_data"
    }
   ],
   "source": [
    "price_extremes = reviews.groupby(['variety']).price.agg([min, max])\n",
    "\n",
    "# Check your answer\n",
    "q3.check()"
   ]
  },
  {
   "cell_type": "code",
   "execution_count": 7,
   "id": "e2cd38e2",
   "metadata": {
    "execution": {
     "iopub.execute_input": "2022-04-20T12:17:11.935837Z",
     "iopub.status.busy": "2022-04-20T12:17:11.935570Z",
     "iopub.status.idle": "2022-04-20T12:17:11.938280Z",
     "shell.execute_reply": "2022-04-20T12:17:11.937741Z"
    },
    "papermill": {
     "duration": 0.02465,
     "end_time": "2022-04-20T12:17:11.940024",
     "exception": false,
     "start_time": "2022-04-20T12:17:11.915374",
     "status": "completed"
    },
    "tags": []
   },
   "outputs": [],
   "source": [
    "#q3.hint()\n",
    "#q3.solution()"
   ]
  },
  {
   "cell_type": "markdown",
   "id": "d12735b3",
   "metadata": {
    "papermill": {
     "duration": 0.019003,
     "end_time": "2022-04-20T12:17:11.978945",
     "exception": false,
     "start_time": "2022-04-20T12:17:11.959942",
     "status": "completed"
    },
    "tags": []
   },
   "source": [
    "## 4.\n",
    "What are the most expensive wine varieties? Create a variable `sorted_varieties` containing a copy of the dataframe from the previous question where varieties are sorted in descending order based on minimum price, then on maximum price (to break ties)."
   ]
  },
  {
   "cell_type": "code",
   "execution_count": 8,
   "id": "18b1da65",
   "metadata": {
    "execution": {
     "iopub.execute_input": "2022-04-20T12:17:12.019803Z",
     "iopub.status.busy": "2022-04-20T12:17:12.019301Z",
     "iopub.status.idle": "2022-04-20T12:17:12.026938Z",
     "shell.execute_reply": "2022-04-20T12:17:12.026452Z"
    },
    "papermill": {
     "duration": 0.030335,
     "end_time": "2022-04-20T12:17:12.028527",
     "exception": false,
     "start_time": "2022-04-20T12:17:11.998192",
     "status": "completed"
    },
    "tags": []
   },
   "outputs": [
    {
     "data": {
      "application/javascript": [
       "parent.postMessage({\"jupyterEvent\": \"custom.exercise_interaction\", \"data\": {\"outcomeType\": 1, \"valueTowardsCompletion\": 0.16666666666666666, \"interactionType\": 1, \"questionType\": 1, \"questionId\": \"4_SortedVarieties\", \"learnToolsVersion\": \"0.3.4\", \"failureMessage\": \"\", \"exceptionClass\": \"\", \"trace\": \"\"}}, \"*\")"
      ],
      "text/plain": [
       "<IPython.core.display.Javascript object>"
      ]
     },
     "metadata": {},
     "output_type": "display_data"
    },
    {
     "data": {
      "text/markdown": [
       "<span style=\"color:#33cc33\">Correct</span>"
      ],
      "text/plain": [
       "Correct"
      ]
     },
     "metadata": {},
     "output_type": "display_data"
    }
   ],
   "source": [
    "sorted_varieties = price_extremes.sort_values(by=['min', 'max'], ascending=False)\n",
    "\n",
    "# Check your answer\n",
    "q4.check()"
   ]
  },
  {
   "cell_type": "code",
   "execution_count": 9,
   "id": "8313707f",
   "metadata": {
    "execution": {
     "iopub.execute_input": "2022-04-20T12:17:12.071048Z",
     "iopub.status.busy": "2022-04-20T12:17:12.070535Z",
     "iopub.status.idle": "2022-04-20T12:17:12.073295Z",
     "shell.execute_reply": "2022-04-20T12:17:12.072771Z"
    },
    "papermill": {
     "duration": 0.026176,
     "end_time": "2022-04-20T12:17:12.075133",
     "exception": false,
     "start_time": "2022-04-20T12:17:12.048957",
     "status": "completed"
    },
    "tags": []
   },
   "outputs": [],
   "source": [
    "#q4.hint()\n",
    "#q4.solution()"
   ]
  },
  {
   "cell_type": "markdown",
   "id": "f1a284ee",
   "metadata": {
    "papermill": {
     "duration": 0.020123,
     "end_time": "2022-04-20T12:17:12.116640",
     "exception": false,
     "start_time": "2022-04-20T12:17:12.096517",
     "status": "completed"
    },
    "tags": []
   },
   "source": [
    "## 5.\n",
    "Create a `Series` whose index is reviewers and whose values is the average review score given out by that reviewer. Hint: you will need the `taster_name` and `points` columns."
   ]
  },
  {
   "cell_type": "code",
   "execution_count": 10,
   "id": "6c1e1d05",
   "metadata": {
    "execution": {
     "iopub.execute_input": "2022-04-20T12:17:12.160104Z",
     "iopub.status.busy": "2022-04-20T12:17:12.159584Z",
     "iopub.status.idle": "2022-04-20T12:17:12.176971Z",
     "shell.execute_reply": "2022-04-20T12:17:12.176233Z"
    },
    "papermill": {
     "duration": 0.041186,
     "end_time": "2022-04-20T12:17:12.178729",
     "exception": false,
     "start_time": "2022-04-20T12:17:12.137543",
     "status": "completed"
    },
    "tags": []
   },
   "outputs": [
    {
     "data": {
      "application/javascript": [
       "parent.postMessage({\"jupyterEvent\": \"custom.exercise_interaction\", \"data\": {\"outcomeType\": 1, \"valueTowardsCompletion\": 0.16666666666666666, \"interactionType\": 1, \"questionType\": 1, \"questionId\": \"5_ReviewerMeanRatings\", \"learnToolsVersion\": \"0.3.4\", \"failureMessage\": \"\", \"exceptionClass\": \"\", \"trace\": \"\"}}, \"*\")"
      ],
      "text/plain": [
       "<IPython.core.display.Javascript object>"
      ]
     },
     "metadata": {},
     "output_type": "display_data"
    },
    {
     "data": {
      "text/markdown": [
       "<span style=\"color:#33cc33\">Correct</span>"
      ],
      "text/plain": [
       "Correct"
      ]
     },
     "metadata": {},
     "output_type": "display_data"
    }
   ],
   "source": [
    "reviewer_mean_ratings = reviews.groupby('taster_name').points.mean()\n",
    "\n",
    "# Check your answer\n",
    "q5.check()"
   ]
  },
  {
   "cell_type": "code",
   "execution_count": 11,
   "id": "4894e717",
   "metadata": {
    "execution": {
     "iopub.execute_input": "2022-04-20T12:17:12.223899Z",
     "iopub.status.busy": "2022-04-20T12:17:12.223404Z",
     "iopub.status.idle": "2022-04-20T12:17:12.226139Z",
     "shell.execute_reply": "2022-04-20T12:17:12.225649Z"
    },
    "papermill": {
     "duration": 0.027142,
     "end_time": "2022-04-20T12:17:12.227802",
     "exception": false,
     "start_time": "2022-04-20T12:17:12.200660",
     "status": "completed"
    },
    "tags": []
   },
   "outputs": [],
   "source": [
    "#q5.hint()\n",
    "#q5.solution()"
   ]
  },
  {
   "cell_type": "markdown",
   "id": "891a2650",
   "metadata": {
    "papermill": {
     "duration": 0.021253,
     "end_time": "2022-04-20T12:17:12.270234",
     "exception": false,
     "start_time": "2022-04-20T12:17:12.248981",
     "status": "completed"
    },
    "tags": []
   },
   "source": [
    "Are there significant differences in the average scores assigned by the various reviewers? Run the cell below to use the `describe()` method to see a summary of the range of values."
   ]
  },
  {
   "cell_type": "code",
   "execution_count": 12,
   "id": "60968e88",
   "metadata": {
    "execution": {
     "iopub.execute_input": "2022-04-20T12:17:12.314303Z",
     "iopub.status.busy": "2022-04-20T12:17:12.313711Z",
     "iopub.status.idle": "2022-04-20T12:17:12.324316Z",
     "shell.execute_reply": "2022-04-20T12:17:12.323657Z"
    },
    "papermill": {
     "duration": 0.034827,
     "end_time": "2022-04-20T12:17:12.326047",
     "exception": false,
     "start_time": "2022-04-20T12:17:12.291220",
     "status": "completed"
    },
    "tags": []
   },
   "outputs": [
    {
     "data": {
      "text/plain": [
       "count    19.000000\n",
       "mean     88.233026\n",
       "std       1.243610\n",
       "min      85.855422\n",
       "25%      87.323501\n",
       "50%      88.536235\n",
       "75%      88.975256\n",
       "max      90.562551\n",
       "Name: points, dtype: float64"
      ]
     },
     "execution_count": 12,
     "metadata": {},
     "output_type": "execute_result"
    }
   ],
   "source": [
    "reviewer_mean_ratings.describe()"
   ]
  },
  {
   "cell_type": "markdown",
   "id": "95944fe2",
   "metadata": {
    "papermill": {
     "duration": 0.021011,
     "end_time": "2022-04-20T12:17:12.368502",
     "exception": false,
     "start_time": "2022-04-20T12:17:12.347491",
     "status": "completed"
    },
    "tags": []
   },
   "source": [
    "## 6.\n",
    "What combination of countries and varieties are most common? Create a `Series` whose index is a `MultiIndex`of `{country, variety}` pairs. For example, a pinot noir produced in the US should map to `{\"US\", \"Pinot Noir\"}`. Sort the values in the `Series` in descending order based on wine count."
   ]
  },
  {
   "cell_type": "code",
   "execution_count": 13,
   "id": "628186df",
   "metadata": {
    "execution": {
     "iopub.execute_input": "2022-04-20T12:17:12.413727Z",
     "iopub.status.busy": "2022-04-20T12:17:12.413170Z",
     "iopub.status.idle": "2022-04-20T12:17:12.445354Z",
     "shell.execute_reply": "2022-04-20T12:17:12.444502Z"
    },
    "papermill": {
     "duration": 0.056834,
     "end_time": "2022-04-20T12:17:12.447130",
     "exception": false,
     "start_time": "2022-04-20T12:17:12.390296",
     "status": "completed"
    },
    "tags": []
   },
   "outputs": [
    {
     "data": {
      "application/javascript": [
       "parent.postMessage({\"jupyterEvent\": \"custom.exercise_interaction\", \"data\": {\"outcomeType\": 1, \"valueTowardsCompletion\": 0.16666666666666666, \"interactionType\": 1, \"questionType\": 1, \"questionId\": \"6_GroupbyCountryVariety\", \"learnToolsVersion\": \"0.3.4\", \"failureMessage\": \"\", \"exceptionClass\": \"\", \"trace\": \"\"}}, \"*\")"
      ],
      "text/plain": [
       "<IPython.core.display.Javascript object>"
      ]
     },
     "metadata": {},
     "output_type": "display_data"
    },
    {
     "data": {
      "text/markdown": [
       "<span style=\"color:#33cc33\">Correct</span>"
      ],
      "text/plain": [
       "Correct"
      ]
     },
     "metadata": {},
     "output_type": "display_data"
    }
   ],
   "source": [
    "country_variety_counts = reviews.groupby(['country', 'variety']).size().sort_values(ascending=False)\n",
    "\n",
    "# Check your answer\n",
    "q6.check()"
   ]
  },
  {
   "cell_type": "code",
   "execution_count": 14,
   "id": "03b0793b",
   "metadata": {
    "execution": {
     "iopub.execute_input": "2022-04-20T12:17:12.493490Z",
     "iopub.status.busy": "2022-04-20T12:17:12.493205Z",
     "iopub.status.idle": "2022-04-20T12:17:12.496567Z",
     "shell.execute_reply": "2022-04-20T12:17:12.495904Z"
    },
    "papermill": {
     "duration": 0.028705,
     "end_time": "2022-04-20T12:17:12.498276",
     "exception": false,
     "start_time": "2022-04-20T12:17:12.469571",
     "status": "completed"
    },
    "tags": []
   },
   "outputs": [],
   "source": [
    "#q6.hint()\n",
    "#q6.solution()"
   ]
  },
  {
   "cell_type": "markdown",
   "id": "915cb3f4",
   "metadata": {
    "papermill": {
     "duration": 0.022116,
     "end_time": "2022-04-20T12:17:12.542721",
     "exception": false,
     "start_time": "2022-04-20T12:17:12.520605",
     "status": "completed"
    },
    "tags": []
   },
   "source": [
    "# Keep going\n",
    "\n",
    "Move on to the [**data types and missing data**](https://www.kaggle.com/residentmario/data-types-and-missing-values)."
   ]
  },
  {
   "cell_type": "markdown",
   "id": "72309e8d",
   "metadata": {
    "papermill": {
     "duration": 0.02208,
     "end_time": "2022-04-20T12:17:12.587193",
     "exception": false,
     "start_time": "2022-04-20T12:17:12.565113",
     "status": "completed"
    },
    "tags": []
   },
   "source": [
    "---\n",
    "\n",
    "\n",
    "\n",
    "\n",
    "*Have questions or comments? Visit the [course discussion forum](https://www.kaggle.com/learn/pandas/discussion) to chat with other learners.*"
   ]
  }
 ],
 "metadata": {
  "kernelspec": {
   "display_name": "Python 3",
   "language": "python",
   "name": "python3"
  },
  "language_info": {
   "codemirror_mode": {
    "name": "ipython",
    "version": 3
   },
   "file_extension": ".py",
   "mimetype": "text/x-python",
   "name": "python",
   "nbconvert_exporter": "python",
   "pygments_lexer": "ipython3",
   "version": "3.7.12"
  },
  "papermill": {
   "default_parameters": {},
   "duration": 13.29512,
   "end_time": "2022-04-20T12:17:13.228472",
   "environment_variables": {},
   "exception": null,
   "input_path": "__notebook__.ipynb",
   "output_path": "__notebook__.ipynb",
   "parameters": {},
   "start_time": "2022-04-20T12:16:59.933352",
   "version": "2.3.4"
  }
 },
 "nbformat": 4,
 "nbformat_minor": 5
}
