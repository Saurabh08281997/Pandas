{
 "cells": [
  {
   "cell_type": "markdown",
   "id": "6ed1a6ae",
   "metadata": {
    "papermill": {
     "duration": 0.01599,
     "end_time": "2022-04-20T14:18:48.103060",
     "exception": false,
     "start_time": "2022-04-20T14:18:48.087070",
     "status": "completed"
    },
    "tags": []
   },
   "source": [
    "**This notebook is an exercise in the [Pandas](https://www.kaggle.com/learn/pandas) course.  You can reference the tutorial at [this link](https://www.kaggle.com/residentmario/data-types-and-missing-values).**\n",
    "\n",
    "---\n"
   ]
  },
  {
   "cell_type": "markdown",
   "id": "af9746c7",
   "metadata": {
    "papermill": {
     "duration": 0.015037,
     "end_time": "2022-04-20T14:18:48.133350",
     "exception": false,
     "start_time": "2022-04-20T14:18:48.118313",
     "status": "completed"
    },
    "tags": []
   },
   "source": [
    "# Introduction\n",
    "\n",
    "Run the following cell to load your data and some utility functions."
   ]
  },
  {
   "cell_type": "code",
   "execution_count": 1,
   "id": "5fc58c2f",
   "metadata": {
    "execution": {
     "iopub.execute_input": "2022-04-20T14:18:48.166304Z",
     "iopub.status.busy": "2022-04-20T14:18:48.165222Z",
     "iopub.status.idle": "2022-04-20T14:18:51.203491Z",
     "shell.execute_reply": "2022-04-20T14:18:51.202621Z"
    },
    "papermill": {
     "duration": 3.05773,
     "end_time": "2022-04-20T14:18:51.206129",
     "exception": false,
     "start_time": "2022-04-20T14:18:48.148399",
     "status": "completed"
    },
    "tags": []
   },
   "outputs": [
    {
     "name": "stdout",
     "output_type": "stream",
     "text": [
      "Setup complete.\n"
     ]
    }
   ],
   "source": [
    "import pandas as pd\n",
    "\n",
    "reviews = pd.read_csv(\"../input/wine-reviews/winemag-data-130k-v2.csv\", index_col=0)\n",
    "\n",
    "from learntools.core import binder; binder.bind(globals())\n",
    "from learntools.pandas.data_types_and_missing_data import *\n",
    "print(\"Setup complete.\")"
   ]
  },
  {
   "cell_type": "markdown",
   "id": "8d687de1",
   "metadata": {
    "papermill": {
     "duration": 0.015273,
     "end_time": "2022-04-20T14:18:51.237297",
     "exception": false,
     "start_time": "2022-04-20T14:18:51.222024",
     "status": "completed"
    },
    "tags": []
   },
   "source": [
    "# Exercises"
   ]
  },
  {
   "cell_type": "markdown",
   "id": "ceaaf8d9",
   "metadata": {
    "papermill": {
     "duration": 0.015138,
     "end_time": "2022-04-20T14:18:51.267892",
     "exception": false,
     "start_time": "2022-04-20T14:18:51.252754",
     "status": "completed"
    },
    "tags": []
   },
   "source": [
    "## 1. \n",
    "What is the data type of the `points` column in the dataset?"
   ]
  },
  {
   "cell_type": "code",
   "execution_count": 2,
   "id": "b4a144f8",
   "metadata": {
    "execution": {
     "iopub.execute_input": "2022-04-20T14:18:51.300531Z",
     "iopub.status.busy": "2022-04-20T14:18:51.299963Z",
     "iopub.status.idle": "2022-04-20T14:18:51.310442Z",
     "shell.execute_reply": "2022-04-20T14:18:51.309657Z"
    },
    "papermill": {
     "duration": 0.029327,
     "end_time": "2022-04-20T14:18:51.312707",
     "exception": false,
     "start_time": "2022-04-20T14:18:51.283380",
     "status": "completed"
    },
    "tags": []
   },
   "outputs": [
    {
     "data": {
      "application/javascript": [
       "parent.postMessage({\"jupyterEvent\": \"custom.exercise_interaction\", \"data\": {\"outcomeType\": 1, \"valueTowardsCompletion\": 0.25, \"interactionType\": 1, \"questionType\": 1, \"questionId\": \"1_PointsDtype\", \"learnToolsVersion\": \"0.3.4\", \"failureMessage\": \"\", \"exceptionClass\": \"\", \"trace\": \"\"}}, \"*\")"
      ],
      "text/plain": [
       "<IPython.core.display.Javascript object>"
      ]
     },
     "metadata": {},
     "output_type": "display_data"
    },
    {
     "data": {
      "text/markdown": [
       "<span style=\"color:#33cc33\">Correct</span>"
      ],
      "text/plain": [
       "Correct"
      ]
     },
     "metadata": {},
     "output_type": "display_data"
    }
   ],
   "source": [
    "# Your code here\n",
    "dtype = reviews.points.dtype\n",
    "\n",
    "# Check your answer\n",
    "q1.check()"
   ]
  },
  {
   "cell_type": "code",
   "execution_count": 3,
   "id": "7b103de8",
   "metadata": {
    "execution": {
     "iopub.execute_input": "2022-04-20T14:18:51.348009Z",
     "iopub.status.busy": "2022-04-20T14:18:51.347410Z",
     "iopub.status.idle": "2022-04-20T14:18:51.351522Z",
     "shell.execute_reply": "2022-04-20T14:18:51.350733Z"
    },
    "papermill": {
     "duration": 0.023662,
     "end_time": "2022-04-20T14:18:51.353447",
     "exception": false,
     "start_time": "2022-04-20T14:18:51.329785",
     "status": "completed"
    },
    "tags": []
   },
   "outputs": [],
   "source": [
    "#q1.hint()\n",
    "#q1.solution()"
   ]
  },
  {
   "cell_type": "markdown",
   "id": "f9aaea8b",
   "metadata": {
    "papermill": {
     "duration": 0.016319,
     "end_time": "2022-04-20T14:18:51.386580",
     "exception": false,
     "start_time": "2022-04-20T14:18:51.370261",
     "status": "completed"
    },
    "tags": []
   },
   "source": [
    "## 2. \n",
    "Create a Series from entries in the `points` column, but convert the entries to strings. Hint: strings are `str` in native Python."
   ]
  },
  {
   "cell_type": "code",
   "execution_count": 4,
   "id": "aa76bb01",
   "metadata": {
    "execution": {
     "iopub.execute_input": "2022-04-20T14:18:51.421596Z",
     "iopub.status.busy": "2022-04-20T14:18:51.421078Z",
     "iopub.status.idle": "2022-04-20T14:18:51.559067Z",
     "shell.execute_reply": "2022-04-20T14:18:51.558523Z"
    },
    "papermill": {
     "duration": 0.157767,
     "end_time": "2022-04-20T14:18:51.561005",
     "exception": false,
     "start_time": "2022-04-20T14:18:51.403238",
     "status": "completed"
    },
    "tags": []
   },
   "outputs": [
    {
     "data": {
      "application/javascript": [
       "parent.postMessage({\"jupyterEvent\": \"custom.exercise_interaction\", \"data\": {\"outcomeType\": 1, \"valueTowardsCompletion\": 0.25, \"interactionType\": 1, \"questionType\": 1, \"questionId\": \"2_StrPoints\", \"learnToolsVersion\": \"0.3.4\", \"failureMessage\": \"\", \"exceptionClass\": \"\", \"trace\": \"\"}}, \"*\")"
      ],
      "text/plain": [
       "<IPython.core.display.Javascript object>"
      ]
     },
     "metadata": {},
     "output_type": "display_data"
    },
    {
     "data": {
      "text/markdown": [
       "<span style=\"color:#33cc33\">Correct</span>"
      ],
      "text/plain": [
       "Correct"
      ]
     },
     "metadata": {},
     "output_type": "display_data"
    }
   ],
   "source": [
    "point_strings = reviews.points.astype('str')\n",
    "\n",
    "# Check your answer\n",
    "q2.check()"
   ]
  },
  {
   "cell_type": "code",
   "execution_count": 5,
   "id": "1a1be113",
   "metadata": {
    "execution": {
     "iopub.execute_input": "2022-04-20T14:18:51.600624Z",
     "iopub.status.busy": "2022-04-20T14:18:51.600043Z",
     "iopub.status.idle": "2022-04-20T14:18:51.603029Z",
     "shell.execute_reply": "2022-04-20T14:18:51.602460Z"
    },
    "papermill": {
     "duration": 0.024905,
     "end_time": "2022-04-20T14:18:51.605197",
     "exception": false,
     "start_time": "2022-04-20T14:18:51.580292",
     "status": "completed"
    },
    "tags": []
   },
   "outputs": [],
   "source": [
    "#q2.hint()\n",
    "#q2.solution()"
   ]
  },
  {
   "cell_type": "markdown",
   "id": "f4273b89",
   "metadata": {
    "papermill": {
     "duration": 0.018275,
     "end_time": "2022-04-20T14:18:51.641894",
     "exception": false,
     "start_time": "2022-04-20T14:18:51.623619",
     "status": "completed"
    },
    "tags": []
   },
   "source": [
    "## 3.\n",
    "Sometimes the price column is null. How many reviews in the dataset are missing a price?"
   ]
  },
  {
   "cell_type": "code",
   "execution_count": 6,
   "id": "acc1d0a1",
   "metadata": {
    "execution": {
     "iopub.execute_input": "2022-04-20T14:18:51.681212Z",
     "iopub.status.busy": "2022-04-20T14:18:51.680704Z",
     "iopub.status.idle": "2022-04-20T14:18:51.688001Z",
     "shell.execute_reply": "2022-04-20T14:18:51.687204Z"
    },
    "papermill": {
     "duration": 0.029217,
     "end_time": "2022-04-20T14:18:51.689870",
     "exception": false,
     "start_time": "2022-04-20T14:18:51.660653",
     "status": "completed"
    },
    "tags": []
   },
   "outputs": [
    {
     "data": {
      "application/javascript": [
       "parent.postMessage({\"jupyterEvent\": \"custom.exercise_interaction\", \"data\": {\"outcomeType\": 1, \"valueTowardsCompletion\": 0.25, \"interactionType\": 1, \"questionType\": 1, \"questionId\": \"3_CountMissingPrices\", \"learnToolsVersion\": \"0.3.4\", \"failureMessage\": \"\", \"exceptionClass\": \"\", \"trace\": \"\"}}, \"*\")"
      ],
      "text/plain": [
       "<IPython.core.display.Javascript object>"
      ]
     },
     "metadata": {},
     "output_type": "display_data"
    },
    {
     "data": {
      "text/markdown": [
       "<span style=\"color:#33cc33\">Correct</span>"
      ],
      "text/plain": [
       "Correct"
      ]
     },
     "metadata": {},
     "output_type": "display_data"
    }
   ],
   "source": [
    "n_missing_prices = reviews.price.isnull().sum()\n",
    "\n",
    "# Check your answer\n",
    "q3.check()"
   ]
  },
  {
   "cell_type": "code",
   "execution_count": 7,
   "id": "61128043",
   "metadata": {
    "execution": {
     "iopub.execute_input": "2022-04-20T14:18:51.730728Z",
     "iopub.status.busy": "2022-04-20T14:18:51.730234Z",
     "iopub.status.idle": "2022-04-20T14:18:51.733322Z",
     "shell.execute_reply": "2022-04-20T14:18:51.732642Z"
    },
    "papermill": {
     "duration": 0.025934,
     "end_time": "2022-04-20T14:18:51.735418",
     "exception": false,
     "start_time": "2022-04-20T14:18:51.709484",
     "status": "completed"
    },
    "tags": []
   },
   "outputs": [],
   "source": [
    "#q3.hint()\n",
    "#q3.solution()"
   ]
  },
  {
   "cell_type": "markdown",
   "id": "118abe99",
   "metadata": {
    "papermill": {
     "duration": 0.021043,
     "end_time": "2022-04-20T14:18:51.776989",
     "exception": false,
     "start_time": "2022-04-20T14:18:51.755946",
     "status": "completed"
    },
    "tags": []
   },
   "source": [
    "## 4.\n",
    "What are the most common wine-producing regions? Create a Series counting the number of times each value occurs in the `region_1` field. This field is often missing data, so replace missing values with `Unknown`. Sort in descending order.  Your output should look something like this:\n",
    "\n",
    "```\n",
    "Unknown                    21247\n",
    "Napa Valley                 4480\n",
    "                           ...  \n",
    "Bardolino Superiore            1\n",
    "Primitivo del Tarantino        1\n",
    "Name: region_1, Length: 1230, dtype: int64\n",
    "```"
   ]
  },
  {
   "cell_type": "code",
   "execution_count": 8,
   "id": "87a60203",
   "metadata": {
    "execution": {
     "iopub.execute_input": "2022-04-20T14:18:51.818355Z",
     "iopub.status.busy": "2022-04-20T14:18:51.818045Z",
     "iopub.status.idle": "2022-04-20T14:18:51.892895Z",
     "shell.execute_reply": "2022-04-20T14:18:51.892030Z"
    },
    "papermill": {
     "duration": 0.098246,
     "end_time": "2022-04-20T14:18:51.895215",
     "exception": false,
     "start_time": "2022-04-20T14:18:51.796969",
     "status": "completed"
    },
    "tags": []
   },
   "outputs": [
    {
     "data": {
      "application/javascript": [
       "parent.postMessage({\"jupyterEvent\": \"custom.exercise_interaction\", \"data\": {\"outcomeType\": 1, \"valueTowardsCompletion\": 0.25, \"interactionType\": 1, \"questionType\": 2, \"questionId\": \"4_ReviewsPerRegion\", \"learnToolsVersion\": \"0.3.4\", \"failureMessage\": \"\", \"exceptionClass\": \"\", \"trace\": \"\"}}, \"*\")"
      ],
      "text/plain": [
       "<IPython.core.display.Javascript object>"
      ]
     },
     "metadata": {},
     "output_type": "display_data"
    },
    {
     "data": {
      "text/markdown": [
       "<span style=\"color:#33cc33\">Correct</span>"
      ],
      "text/plain": [
       "Correct"
      ]
     },
     "metadata": {},
     "output_type": "display_data"
    }
   ],
   "source": [
    "reviews_per_region = reviews.region_1.fillna('Unknown').value_counts().sort_values(ascending=False)\n",
    "\n",
    "# Check your answer\n",
    "q4.check()"
   ]
  },
  {
   "cell_type": "code",
   "execution_count": 9,
   "id": "2b1b67d7",
   "metadata": {
    "execution": {
     "iopub.execute_input": "2022-04-20T14:18:51.938606Z",
     "iopub.status.busy": "2022-04-20T14:18:51.938314Z",
     "iopub.status.idle": "2022-04-20T14:18:51.941550Z",
     "shell.execute_reply": "2022-04-20T14:18:51.940989Z"
    },
    "papermill": {
     "duration": 0.027054,
     "end_time": "2022-04-20T14:18:51.943351",
     "exception": false,
     "start_time": "2022-04-20T14:18:51.916297",
     "status": "completed"
    },
    "tags": []
   },
   "outputs": [],
   "source": [
    "#q4.hint()\n",
    "#q4.solution()"
   ]
  },
  {
   "cell_type": "markdown",
   "id": "9e448045",
   "metadata": {
    "papermill": {
     "duration": 0.020336,
     "end_time": "2022-04-20T14:18:51.984363",
     "exception": false,
     "start_time": "2022-04-20T14:18:51.964027",
     "status": "completed"
    },
    "tags": []
   },
   "source": [
    "# Keep going\n",
    "\n",
    "Move on to **[renaming and combining](https://www.kaggle.com/residentmario/renaming-and-combining)**."
   ]
  },
  {
   "cell_type": "markdown",
   "id": "abc80d82",
   "metadata": {
    "papermill": {
     "duration": 0.021335,
     "end_time": "2022-04-20T14:18:52.026433",
     "exception": false,
     "start_time": "2022-04-20T14:18:52.005098",
     "status": "completed"
    },
    "tags": []
   },
   "source": [
    "---\n",
    "\n",
    "\n",
    "\n",
    "\n",
    "*Have questions or comments? Visit the [course discussion forum](https://www.kaggle.com/learn/pandas/discussion) to chat with other learners.*"
   ]
  }
 ],
 "metadata": {
  "kernelspec": {
   "display_name": "Python 3",
   "language": "python",
   "name": "python3"
  },
  "language_info": {
   "codemirror_mode": {
    "name": "ipython",
    "version": 3
   },
   "file_extension": ".py",
   "mimetype": "text/x-python",
   "name": "python",
   "nbconvert_exporter": "python",
   "pygments_lexer": "ipython3",
   "version": "3.7.12"
  },
  "papermill": {
   "default_parameters": {},
   "duration": 14.747784,
   "end_time": "2022-04-20T14:18:52.869348",
   "environment_variables": {},
   "exception": null,
   "input_path": "__notebook__.ipynb",
   "output_path": "__notebook__.ipynb",
   "parameters": {},
   "start_time": "2022-04-20T14:18:38.121564",
   "version": "2.3.4"
  }
 },
 "nbformat": 4,
 "nbformat_minor": 5
}
