{
 "cells": [
  {
   "cell_type": "markdown",
   "id": "04360488",
   "metadata": {
    "papermill": {
     "duration": 0.02408,
     "end_time": "2022-04-13T14:18:25.165648",
     "exception": false,
     "start_time": "2022-04-13T14:18:25.141568",
     "status": "completed"
    },
    "tags": []
   },
   "source": [
    "**This notebook is an exercise in the [Pandas](https://www.kaggle.com/learn/pandas) course.  You can reference the tutorial at [this link](https://www.kaggle.com/residentmario/summary-functions-and-maps).**\n",
    "\n",
    "---\n"
   ]
  },
  {
   "cell_type": "markdown",
   "id": "dd8ac4a3",
   "metadata": {
    "papermill": {
     "duration": 0.022175,
     "end_time": "2022-04-13T14:18:25.211103",
     "exception": false,
     "start_time": "2022-04-13T14:18:25.188928",
     "status": "completed"
    },
    "tags": []
   },
   "source": [
    "# Introduction\n",
    "\n",
    "Now you are ready to get a deeper understanding of your data.\n",
    "\n",
    "Run the following cell to load your data and some utility functions (including code to check your answers)."
   ]
  },
  {
   "cell_type": "code",
   "execution_count": 1,
   "id": "87090776",
   "metadata": {
    "execution": {
     "iopub.execute_input": "2022-04-13T14:18:25.262045Z",
     "iopub.status.busy": "2022-04-13T14:18:25.260796Z",
     "iopub.status.idle": "2022-04-13T14:18:33.014299Z",
     "shell.execute_reply": "2022-04-13T14:18:33.014971Z",
     "shell.execute_reply.started": "2022-04-13T13:49:40.294506Z"
    },
    "papermill": {
     "duration": 7.781583,
     "end_time": "2022-04-13T14:18:33.015291",
     "exception": false,
     "start_time": "2022-04-13T14:18:25.233708",
     "status": "completed"
    },
    "tags": []
   },
   "outputs": [
    {
     "name": "stdout",
     "output_type": "stream",
     "text": [
      "Setup complete.\n"
     ]
    },
    {
     "data": {
      "text/html": [
       "<div>\n",
       "<style scoped>\n",
       "    .dataframe tbody tr th:only-of-type {\n",
       "        vertical-align: middle;\n",
       "    }\n",
       "\n",
       "    .dataframe tbody tr th {\n",
       "        vertical-align: top;\n",
       "    }\n",
       "\n",
       "    .dataframe thead th {\n",
       "        text-align: right;\n",
       "    }\n",
       "</style>\n",
       "<table border=\"1\" class=\"dataframe\">\n",
       "  <thead>\n",
       "    <tr style=\"text-align: right;\">\n",
       "      <th></th>\n",
       "      <th>country</th>\n",
       "      <th>description</th>\n",
       "      <th>designation</th>\n",
       "      <th>points</th>\n",
       "      <th>price</th>\n",
       "      <th>province</th>\n",
       "      <th>region_1</th>\n",
       "      <th>region_2</th>\n",
       "      <th>taster_name</th>\n",
       "      <th>taster_twitter_handle</th>\n",
       "      <th>title</th>\n",
       "      <th>variety</th>\n",
       "      <th>winery</th>\n",
       "    </tr>\n",
       "  </thead>\n",
       "  <tbody>\n",
       "    <tr>\n",
       "      <th>0</th>\n",
       "      <td>Italy</td>\n",
       "      <td>Aromas include tropical fruit, broom, brimston...</td>\n",
       "      <td>Vulkà Bianco</td>\n",
       "      <td>87</td>\n",
       "      <td>NaN</td>\n",
       "      <td>Sicily &amp; Sardinia</td>\n",
       "      <td>Etna</td>\n",
       "      <td>NaN</td>\n",
       "      <td>Kerin O’Keefe</td>\n",
       "      <td>@kerinokeefe</td>\n",
       "      <td>Nicosia 2013 Vulkà Bianco  (Etna)</td>\n",
       "      <td>White Blend</td>\n",
       "      <td>Nicosia</td>\n",
       "    </tr>\n",
       "    <tr>\n",
       "      <th>1</th>\n",
       "      <td>Portugal</td>\n",
       "      <td>This is ripe and fruity, a wine that is smooth...</td>\n",
       "      <td>Avidagos</td>\n",
       "      <td>87</td>\n",
       "      <td>15.0</td>\n",
       "      <td>Douro</td>\n",
       "      <td>NaN</td>\n",
       "      <td>NaN</td>\n",
       "      <td>Roger Voss</td>\n",
       "      <td>@vossroger</td>\n",
       "      <td>Quinta dos Avidagos 2011 Avidagos Red (Douro)</td>\n",
       "      <td>Portuguese Red</td>\n",
       "      <td>Quinta dos Avidagos</td>\n",
       "    </tr>\n",
       "    <tr>\n",
       "      <th>2</th>\n",
       "      <td>US</td>\n",
       "      <td>Tart and snappy, the flavors of lime flesh and...</td>\n",
       "      <td>NaN</td>\n",
       "      <td>87</td>\n",
       "      <td>14.0</td>\n",
       "      <td>Oregon</td>\n",
       "      <td>Willamette Valley</td>\n",
       "      <td>Willamette Valley</td>\n",
       "      <td>Paul Gregutt</td>\n",
       "      <td>@paulgwine</td>\n",
       "      <td>Rainstorm 2013 Pinot Gris (Willamette Valley)</td>\n",
       "      <td>Pinot Gris</td>\n",
       "      <td>Rainstorm</td>\n",
       "    </tr>\n",
       "    <tr>\n",
       "      <th>3</th>\n",
       "      <td>US</td>\n",
       "      <td>Pineapple rind, lemon pith and orange blossom ...</td>\n",
       "      <td>Reserve Late Harvest</td>\n",
       "      <td>87</td>\n",
       "      <td>13.0</td>\n",
       "      <td>Michigan</td>\n",
       "      <td>Lake Michigan Shore</td>\n",
       "      <td>NaN</td>\n",
       "      <td>Alexander Peartree</td>\n",
       "      <td>NaN</td>\n",
       "      <td>St. Julian 2013 Reserve Late Harvest Riesling ...</td>\n",
       "      <td>Riesling</td>\n",
       "      <td>St. Julian</td>\n",
       "    </tr>\n",
       "    <tr>\n",
       "      <th>4</th>\n",
       "      <td>US</td>\n",
       "      <td>Much like the regular bottling from 2012, this...</td>\n",
       "      <td>Vintner's Reserve Wild Child Block</td>\n",
       "      <td>87</td>\n",
       "      <td>65.0</td>\n",
       "      <td>Oregon</td>\n",
       "      <td>Willamette Valley</td>\n",
       "      <td>Willamette Valley</td>\n",
       "      <td>Paul Gregutt</td>\n",
       "      <td>@paulgwine</td>\n",
       "      <td>Sweet Cheeks 2012 Vintner's Reserve Wild Child...</td>\n",
       "      <td>Pinot Noir</td>\n",
       "      <td>Sweet Cheeks</td>\n",
       "    </tr>\n",
       "  </tbody>\n",
       "</table>\n",
       "</div>"
      ],
      "text/plain": [
       "    country                                        description  \\\n",
       "0     Italy  Aromas include tropical fruit, broom, brimston...   \n",
       "1  Portugal  This is ripe and fruity, a wine that is smooth...   \n",
       "2        US  Tart and snappy, the flavors of lime flesh and...   \n",
       "3        US  Pineapple rind, lemon pith and orange blossom ...   \n",
       "4        US  Much like the regular bottling from 2012, this...   \n",
       "\n",
       "                          designation  points  price           province  \\\n",
       "0                        Vulkà Bianco      87    NaN  Sicily & Sardinia   \n",
       "1                            Avidagos      87   15.0              Douro   \n",
       "2                                 NaN      87   14.0             Oregon   \n",
       "3                Reserve Late Harvest      87   13.0           Michigan   \n",
       "4  Vintner's Reserve Wild Child Block      87   65.0             Oregon   \n",
       "\n",
       "              region_1           region_2         taster_name  \\\n",
       "0                 Etna                NaN       Kerin O’Keefe   \n",
       "1                  NaN                NaN          Roger Voss   \n",
       "2    Willamette Valley  Willamette Valley        Paul Gregutt   \n",
       "3  Lake Michigan Shore                NaN  Alexander Peartree   \n",
       "4    Willamette Valley  Willamette Valley        Paul Gregutt   \n",
       "\n",
       "  taster_twitter_handle                                              title  \\\n",
       "0          @kerinokeefe                  Nicosia 2013 Vulkà Bianco  (Etna)   \n",
       "1            @vossroger      Quinta dos Avidagos 2011 Avidagos Red (Douro)   \n",
       "2           @paulgwine       Rainstorm 2013 Pinot Gris (Willamette Valley)   \n",
       "3                   NaN  St. Julian 2013 Reserve Late Harvest Riesling ...   \n",
       "4           @paulgwine   Sweet Cheeks 2012 Vintner's Reserve Wild Child...   \n",
       "\n",
       "          variety               winery  \n",
       "0     White Blend              Nicosia  \n",
       "1  Portuguese Red  Quinta dos Avidagos  \n",
       "2      Pinot Gris            Rainstorm  \n",
       "3        Riesling           St. Julian  \n",
       "4      Pinot Noir         Sweet Cheeks  "
      ]
     },
     "execution_count": 1,
     "metadata": {},
     "output_type": "execute_result"
    }
   ],
   "source": [
    "import pandas as pd\n",
    "pd.set_option(\"display.max_rows\", 5)\n",
    "reviews = pd.read_csv(\"../input/wine-reviews/winemag-data-130k-v2.csv\", index_col=0)\n",
    "\n",
    "from learntools.core import binder; binder.bind(globals())\n",
    "from learntools.pandas.summary_functions_and_maps import *\n",
    "print(\"Setup complete.\")\n",
    "\n",
    "reviews.head()"
   ]
  },
  {
   "cell_type": "markdown",
   "id": "e534d9a1",
   "metadata": {
    "papermill": {
     "duration": 0.023896,
     "end_time": "2022-04-13T14:18:33.064081",
     "exception": false,
     "start_time": "2022-04-13T14:18:33.040185",
     "status": "completed"
    },
    "tags": []
   },
   "source": [
    "# Exercises"
   ]
  },
  {
   "cell_type": "markdown",
   "id": "de68647e",
   "metadata": {
    "papermill": {
     "duration": 0.023607,
     "end_time": "2022-04-13T14:18:33.111200",
     "exception": false,
     "start_time": "2022-04-13T14:18:33.087593",
     "status": "completed"
    },
    "tags": []
   },
   "source": [
    "## 1.\n",
    "\n",
    "What is the median of the `points` column in the `reviews` DataFrame?"
   ]
  },
  {
   "cell_type": "code",
   "execution_count": 2,
   "id": "1366eb3e",
   "metadata": {
    "execution": {
     "iopub.execute_input": "2022-04-13T14:18:33.163883Z",
     "iopub.status.busy": "2022-04-13T14:18:33.162945Z",
     "iopub.status.idle": "2022-04-13T14:18:33.169927Z",
     "shell.execute_reply": "2022-04-13T14:18:33.169303Z",
     "shell.execute_reply.started": "2022-04-13T13:49:56.545607Z"
    },
    "papermill": {
     "duration": 0.035402,
     "end_time": "2022-04-13T14:18:33.170068",
     "exception": false,
     "start_time": "2022-04-13T14:18:33.134666",
     "status": "completed"
    },
    "tags": []
   },
   "outputs": [
    {
     "data": {
      "application/javascript": [
       "parent.postMessage({\"jupyterEvent\": \"custom.exercise_interaction\", \"data\": {\"outcomeType\": 1, \"valueTowardsCompletion\": 0.14285714285714285, \"interactionType\": 1, \"questionType\": 1, \"questionId\": \"1_MedianPoints\", \"learnToolsVersion\": \"0.3.4\", \"failureMessage\": \"\", \"exceptionClass\": \"\", \"trace\": \"\"}}, \"*\")"
      ],
      "text/plain": [
       "<IPython.core.display.Javascript object>"
      ]
     },
     "metadata": {},
     "output_type": "display_data"
    },
    {
     "data": {
      "text/markdown": [
       "<span style=\"color:#33cc33\">Correct</span>"
      ],
      "text/plain": [
       "Correct"
      ]
     },
     "metadata": {},
     "output_type": "display_data"
    }
   ],
   "source": [
    "median_points = reviews.points.median()\n",
    "\n",
    "# Check your answer\n",
    "q1.check()"
   ]
  },
  {
   "cell_type": "code",
   "execution_count": 3,
   "id": "8a4ee7f1",
   "metadata": {
    "execution": {
     "iopub.execute_input": "2022-04-13T14:18:33.223162Z",
     "iopub.status.busy": "2022-04-13T14:18:33.222410Z",
     "iopub.status.idle": "2022-04-13T14:18:33.224234Z",
     "shell.execute_reply": "2022-04-13T14:18:33.224770Z"
    },
    "papermill": {
     "duration": 0.030626,
     "end_time": "2022-04-13T14:18:33.224937",
     "exception": false,
     "start_time": "2022-04-13T14:18:33.194311",
     "status": "completed"
    },
    "tags": []
   },
   "outputs": [],
   "source": [
    "#q1.hint()\n",
    "#q1.solution()"
   ]
  },
  {
   "cell_type": "markdown",
   "id": "fa5951a7",
   "metadata": {
    "papermill": {
     "duration": 0.024418,
     "end_time": "2022-04-13T14:18:33.274291",
     "exception": false,
     "start_time": "2022-04-13T14:18:33.249873",
     "status": "completed"
    },
    "tags": []
   },
   "source": [
    "## 2. \n",
    "What countries are represented in the dataset? (Your answer should not include any duplicates.)"
   ]
  },
  {
   "cell_type": "code",
   "execution_count": 4,
   "id": "b882ddf5",
   "metadata": {
    "execution": {
     "iopub.execute_input": "2022-04-13T14:18:33.329059Z",
     "iopub.status.busy": "2022-04-13T14:18:33.328415Z",
     "iopub.status.idle": "2022-04-13T14:18:33.348079Z",
     "shell.execute_reply": "2022-04-13T14:18:33.348574Z",
     "shell.execute_reply.started": "2022-04-13T13:50:57.656875Z"
    },
    "papermill": {
     "duration": 0.049597,
     "end_time": "2022-04-13T14:18:33.348734",
     "exception": false,
     "start_time": "2022-04-13T14:18:33.299137",
     "status": "completed"
    },
    "tags": []
   },
   "outputs": [
    {
     "data": {
      "application/javascript": [
       "parent.postMessage({\"jupyterEvent\": \"custom.exercise_interaction\", \"data\": {\"outcomeType\": 1, \"valueTowardsCompletion\": 0.14285714285714285, \"interactionType\": 1, \"questionType\": 2, \"questionId\": \"2_UniqueCountries\", \"learnToolsVersion\": \"0.3.4\", \"failureMessage\": \"\", \"exceptionClass\": \"\", \"trace\": \"\"}}, \"*\")"
      ],
      "text/plain": [
       "<IPython.core.display.Javascript object>"
      ]
     },
     "metadata": {},
     "output_type": "display_data"
    },
    {
     "data": {
      "text/markdown": [
       "<span style=\"color:#33cc33\">Correct</span>"
      ],
      "text/plain": [
       "Correct"
      ]
     },
     "metadata": {},
     "output_type": "display_data"
    }
   ],
   "source": [
    "countries = reviews.country.unique()\n",
    "\n",
    "# Check your answer\n",
    "q2.check()"
   ]
  },
  {
   "cell_type": "code",
   "execution_count": 5,
   "id": "982678fe",
   "metadata": {
    "execution": {
     "iopub.execute_input": "2022-04-13T14:18:33.404657Z",
     "iopub.status.busy": "2022-04-13T14:18:33.403729Z",
     "iopub.status.idle": "2022-04-13T14:18:33.406713Z",
     "shell.execute_reply": "2022-04-13T14:18:33.407274Z"
    },
    "papermill": {
     "duration": 0.032393,
     "end_time": "2022-04-13T14:18:33.407436",
     "exception": false,
     "start_time": "2022-04-13T14:18:33.375043",
     "status": "completed"
    },
    "tags": []
   },
   "outputs": [],
   "source": [
    "#q2.hint()\n",
    "#q2.solution()"
   ]
  },
  {
   "cell_type": "markdown",
   "id": "848c2dce",
   "metadata": {
    "papermill": {
     "duration": 0.026378,
     "end_time": "2022-04-13T14:18:33.460009",
     "exception": false,
     "start_time": "2022-04-13T14:18:33.433631",
     "status": "completed"
    },
    "tags": []
   },
   "source": [
    "## 3.\n",
    "How often does each country appear in the dataset? Create a Series `reviews_per_country` mapping countries to the count of reviews of wines from that country."
   ]
  },
  {
   "cell_type": "code",
   "execution_count": 6,
   "id": "3ad32278",
   "metadata": {
    "execution": {
     "iopub.execute_input": "2022-04-13T14:18:33.517187Z",
     "iopub.status.busy": "2022-04-13T14:18:33.516277Z",
     "iopub.status.idle": "2022-04-13T14:18:33.542479Z",
     "shell.execute_reply": "2022-04-13T14:18:33.543071Z",
     "shell.execute_reply.started": "2022-04-13T13:51:55.642993Z"
    },
    "papermill": {
     "duration": 0.056061,
     "end_time": "2022-04-13T14:18:33.543246",
     "exception": false,
     "start_time": "2022-04-13T14:18:33.487185",
     "status": "completed"
    },
    "tags": []
   },
   "outputs": [
    {
     "data": {
      "application/javascript": [
       "parent.postMessage({\"jupyterEvent\": \"custom.exercise_interaction\", \"data\": {\"outcomeType\": 1, \"valueTowardsCompletion\": 0.14285714285714285, \"interactionType\": 1, \"questionType\": 1, \"questionId\": \"3_ReviewsPerCountry\", \"learnToolsVersion\": \"0.3.4\", \"failureMessage\": \"\", \"exceptionClass\": \"\", \"trace\": \"\"}}, \"*\")"
      ],
      "text/plain": [
       "<IPython.core.display.Javascript object>"
      ]
     },
     "metadata": {},
     "output_type": "display_data"
    },
    {
     "data": {
      "text/markdown": [
       "<span style=\"color:#33cc33\">Correct</span>"
      ],
      "text/plain": [
       "Correct"
      ]
     },
     "metadata": {},
     "output_type": "display_data"
    }
   ],
   "source": [
    "reviews_per_country = reviews.country.value_counts()\n",
    "\n",
    "# Check your answer\n",
    "q3.check()"
   ]
  },
  {
   "cell_type": "code",
   "execution_count": 7,
   "id": "d153d923",
   "metadata": {
    "execution": {
     "iopub.execute_input": "2022-04-13T14:18:33.602171Z",
     "iopub.status.busy": "2022-04-13T14:18:33.601233Z",
     "iopub.status.idle": "2022-04-13T14:18:33.604314Z",
     "shell.execute_reply": "2022-04-13T14:18:33.604864Z"
    },
    "papermill": {
     "duration": 0.034295,
     "end_time": "2022-04-13T14:18:33.605019",
     "exception": false,
     "start_time": "2022-04-13T14:18:33.570724",
     "status": "completed"
    },
    "tags": []
   },
   "outputs": [],
   "source": [
    "#q3.hint()\n",
    "#q3.solution()"
   ]
  },
  {
   "cell_type": "markdown",
   "id": "5b79eeba",
   "metadata": {
    "papermill": {
     "duration": 0.027344,
     "end_time": "2022-04-13T14:18:33.659997",
     "exception": false,
     "start_time": "2022-04-13T14:18:33.632653",
     "status": "completed"
    },
    "tags": []
   },
   "source": [
    "## 4.\n",
    "Create variable `centered_price` containing a version of the `price` column with the mean price subtracted.\n",
    "\n",
    "(Note: this 'centering' transformation is a common preprocessing step before applying various machine learning algorithms.) "
   ]
  },
  {
   "cell_type": "code",
   "execution_count": 8,
   "id": "3e400c74",
   "metadata": {
    "execution": {
     "iopub.execute_input": "2022-04-13T14:18:33.725066Z",
     "iopub.status.busy": "2022-04-13T14:18:33.724397Z",
     "iopub.status.idle": "2022-04-13T14:18:33.728657Z",
     "shell.execute_reply": "2022-04-13T14:18:33.729154Z",
     "shell.execute_reply.started": "2022-04-13T13:57:25.616193Z"
    },
    "papermill": {
     "duration": 0.041645,
     "end_time": "2022-04-13T14:18:33.729318",
     "exception": false,
     "start_time": "2022-04-13T14:18:33.687673",
     "status": "completed"
    },
    "tags": []
   },
   "outputs": [
    {
     "data": {
      "application/javascript": [
       "parent.postMessage({\"jupyterEvent\": \"custom.exercise_interaction\", \"data\": {\"outcomeType\": 1, \"valueTowardsCompletion\": 0.14285714285714285, \"interactionType\": 1, \"questionType\": 1, \"questionId\": \"4_CenteredPrice\", \"learnToolsVersion\": \"0.3.4\", \"failureMessage\": \"\", \"exceptionClass\": \"\", \"trace\": \"\"}}, \"*\")"
      ],
      "text/plain": [
       "<IPython.core.display.Javascript object>"
      ]
     },
     "metadata": {},
     "output_type": "display_data"
    },
    {
     "data": {
      "text/markdown": [
       "<span style=\"color:#33cc33\">Correct</span>"
      ],
      "text/plain": [
       "Correct"
      ]
     },
     "metadata": {},
     "output_type": "display_data"
    }
   ],
   "source": [
    "centered_price = reviews.price - reviews.price.mean()\n",
    "\n",
    "# Check your answer\n",
    "q4.check()"
   ]
  },
  {
   "cell_type": "code",
   "execution_count": 9,
   "id": "b4b5de3c",
   "metadata": {
    "execution": {
     "iopub.execute_input": "2022-04-13T14:18:33.790533Z",
     "iopub.status.busy": "2022-04-13T14:18:33.789205Z",
     "iopub.status.idle": "2022-04-13T14:18:33.792251Z",
     "shell.execute_reply": "2022-04-13T14:18:33.792798Z"
    },
    "papermill": {
     "duration": 0.034941,
     "end_time": "2022-04-13T14:18:33.792972",
     "exception": false,
     "start_time": "2022-04-13T14:18:33.758031",
     "status": "completed"
    },
    "tags": []
   },
   "outputs": [],
   "source": [
    "#q4.hint()\n",
    "#q4.solution()"
   ]
  },
  {
   "cell_type": "markdown",
   "id": "3fa45226",
   "metadata": {
    "papermill": {
     "duration": 0.028121,
     "end_time": "2022-04-13T14:18:33.849663",
     "exception": false,
     "start_time": "2022-04-13T14:18:33.821542",
     "status": "completed"
    },
    "tags": []
   },
   "source": [
    "## 5.\n",
    "I'm an economical wine buyer. Which wine is the \"best bargain\"? Create a variable `bargain_wine` with the title of the wine with the highest points-to-price ratio in the dataset."
   ]
  },
  {
   "cell_type": "code",
   "execution_count": 10,
   "id": "75f8e255",
   "metadata": {
    "execution": {
     "iopub.execute_input": "2022-04-13T14:18:33.910123Z",
     "iopub.status.busy": "2022-04-13T14:18:33.909469Z",
     "iopub.status.idle": "2022-04-13T14:18:33.920707Z",
     "shell.execute_reply": "2022-04-13T14:18:33.921300Z",
     "shell.execute_reply.started": "2022-04-13T14:06:06.199621Z"
    },
    "papermill": {
     "duration": 0.043422,
     "end_time": "2022-04-13T14:18:33.921467",
     "exception": false,
     "start_time": "2022-04-13T14:18:33.878045",
     "status": "completed"
    },
    "tags": []
   },
   "outputs": [
    {
     "data": {
      "application/javascript": [
       "parent.postMessage({\"jupyterEvent\": \"custom.exercise_interaction\", \"data\": {\"outcomeType\": 1, \"valueTowardsCompletion\": 0.14285714285714285, \"interactionType\": 1, \"questionType\": 2, \"questionId\": \"5_BargainWine\", \"learnToolsVersion\": \"0.3.4\", \"failureMessage\": \"\", \"exceptionClass\": \"\", \"trace\": \"\"}}, \"*\")"
      ],
      "text/plain": [
       "<IPython.core.display.Javascript object>"
      ]
     },
     "metadata": {},
     "output_type": "display_data"
    },
    {
     "data": {
      "text/markdown": [
       "<span style=\"color:#33cc33\">Correct</span>"
      ],
      "text/plain": [
       "Correct"
      ]
     },
     "metadata": {},
     "output_type": "display_data"
    }
   ],
   "source": [
    "bargain_idx = (reviews.points / reviews.price).idxmax()\n",
    "bargain_wine = reviews.loc[bargain_idx, 'title']\n",
    "\n",
    "# Check your answer\n",
    "q5.check()"
   ]
  },
  {
   "cell_type": "code",
   "execution_count": 11,
   "id": "e337e268",
   "metadata": {
    "execution": {
     "iopub.execute_input": "2022-04-13T14:18:33.985520Z",
     "iopub.status.busy": "2022-04-13T14:18:33.984885Z",
     "iopub.status.idle": "2022-04-13T14:18:33.987520Z",
     "shell.execute_reply": "2022-04-13T14:18:33.988108Z",
     "shell.execute_reply.started": "2022-04-13T14:06:02.480632Z"
    },
    "papermill": {
     "duration": 0.03588,
     "end_time": "2022-04-13T14:18:33.988265",
     "exception": false,
     "start_time": "2022-04-13T14:18:33.952385",
     "status": "completed"
    },
    "tags": []
   },
   "outputs": [],
   "source": [
    "#q5.hint()\n",
    "#q5.solution()"
   ]
  },
  {
   "cell_type": "markdown",
   "id": "53b805bb",
   "metadata": {
    "papermill": {
     "duration": 0.029093,
     "end_time": "2022-04-13T14:18:34.047674",
     "exception": false,
     "start_time": "2022-04-13T14:18:34.018581",
     "status": "completed"
    },
    "tags": []
   },
   "source": [
    "## 6.\n",
    "There are only so many words you can use when describing a bottle of wine. Is a wine more likely to be \"tropical\" or \"fruity\"? Create a Series `descriptor_counts` counting how many times each of these two words appears in the `description` column in the dataset. (For simplicity, let's ignore the capitalized versions of these words.)"
   ]
  },
  {
   "cell_type": "code",
   "execution_count": 12,
   "id": "3ae00a08",
   "metadata": {
    "execution": {
     "iopub.execute_input": "2022-04-13T14:18:34.112916Z",
     "iopub.status.busy": "2022-04-13T14:18:34.112248Z",
     "iopub.status.idle": "2022-04-13T14:18:34.257417Z",
     "shell.execute_reply": "2022-04-13T14:18:34.257898Z",
     "shell.execute_reply.started": "2022-04-13T14:13:54.741882Z"
    },
    "papermill": {
     "duration": 0.180585,
     "end_time": "2022-04-13T14:18:34.258073",
     "exception": false,
     "start_time": "2022-04-13T14:18:34.077488",
     "status": "completed"
    },
    "tags": []
   },
   "outputs": [
    {
     "data": {
      "application/javascript": [
       "parent.postMessage({\"jupyterEvent\": \"custom.exercise_interaction\", \"data\": {\"outcomeType\": 1, \"valueTowardsCompletion\": 0.14285714285714285, \"interactionType\": 1, \"questionType\": 1, \"questionId\": \"6_DescriptorCounts\", \"learnToolsVersion\": \"0.3.4\", \"failureMessage\": \"\", \"exceptionClass\": \"\", \"trace\": \"\"}}, \"*\")"
      ],
      "text/plain": [
       "<IPython.core.display.Javascript object>"
      ]
     },
     "metadata": {},
     "output_type": "display_data"
    },
    {
     "data": {
      "text/markdown": [
       "<span style=\"color:#33cc33\">Correct</span>"
      ],
      "text/plain": [
       "Correct"
      ]
     },
     "metadata": {},
     "output_type": "display_data"
    }
   ],
   "source": [
    "n_trop = reviews.description.map(lambda desc: \"tropical\" in desc).sum()\n",
    "n_fruity = reviews.description.map(lambda desc: \"fruity\" in desc).sum()\n",
    "descriptor_counts = pd.Series([n_trop, n_fruity], index=['tropical', 'fruity'])\n",
    "\n",
    "# Check your answer\n",
    "q6.check()"
   ]
  },
  {
   "cell_type": "code",
   "execution_count": 13,
   "id": "fecfe009",
   "metadata": {
    "execution": {
     "iopub.execute_input": "2022-04-13T14:18:34.324700Z",
     "iopub.status.busy": "2022-04-13T14:18:34.324127Z",
     "iopub.status.idle": "2022-04-13T14:18:34.329366Z",
     "shell.execute_reply": "2022-04-13T14:18:34.329882Z",
     "shell.execute_reply.started": "2022-04-13T14:14:07.278007Z"
    },
    "papermill": {
     "duration": 0.040496,
     "end_time": "2022-04-13T14:18:34.330049",
     "exception": false,
     "start_time": "2022-04-13T14:18:34.289553",
     "status": "completed"
    },
    "tags": []
   },
   "outputs": [
    {
     "data": {
      "text/plain": [
       "tropical    3607\n",
       "fruity      9090\n",
       "dtype: int64"
      ]
     },
     "execution_count": 13,
     "metadata": {},
     "output_type": "execute_result"
    }
   ],
   "source": [
    "descriptor_counts"
   ]
  },
  {
   "cell_type": "code",
   "execution_count": 14,
   "id": "d16bfc68",
   "metadata": {
    "execution": {
     "iopub.execute_input": "2022-04-13T14:18:34.397753Z",
     "iopub.status.busy": "2022-04-13T14:18:34.396905Z",
     "iopub.status.idle": "2022-04-13T14:18:34.399555Z",
     "shell.execute_reply": "2022-04-13T14:18:34.400113Z",
     "shell.execute_reply.started": "2022-04-13T14:13:05.230935Z"
    },
    "papermill": {
     "duration": 0.038148,
     "end_time": "2022-04-13T14:18:34.400284",
     "exception": false,
     "start_time": "2022-04-13T14:18:34.362136",
     "status": "completed"
    },
    "tags": []
   },
   "outputs": [],
   "source": [
    "#q6.hint()\n",
    "#q6.solution()"
   ]
  },
  {
   "cell_type": "markdown",
   "id": "2c93d2bb",
   "metadata": {
    "papermill": {
     "duration": 0.031255,
     "end_time": "2022-04-13T14:18:34.462940",
     "exception": false,
     "start_time": "2022-04-13T14:18:34.431685",
     "status": "completed"
    },
    "tags": []
   },
   "source": [
    "## 7.\n",
    "We'd like to host these wine reviews on our website, but a rating system ranging from 80 to 100 points is too hard to understand - we'd like to translate them into simple star ratings. A score of 95 or higher counts as 3 stars, a score of at least 85 but less than 95 is 2 stars. Any other score is 1 star.\n",
    "\n",
    "Also, the Canadian Vintners Association bought a lot of ads on the site, so any wines from Canada should automatically get 3 stars, regardless of points.\n",
    "\n",
    "Create a series `star_ratings` with the number of stars corresponding to each review in the dataset."
   ]
  },
  {
   "cell_type": "code",
   "execution_count": 15,
   "id": "d0de6796",
   "metadata": {
    "execution": {
     "iopub.execute_input": "2022-04-13T14:18:34.528822Z",
     "iopub.status.busy": "2022-04-13T14:18:34.528206Z",
     "iopub.status.idle": "2022-04-13T14:18:39.374854Z",
     "shell.execute_reply": "2022-04-13T14:18:39.374330Z",
     "shell.execute_reply.started": "2022-04-13T14:17:32.778219Z"
    },
    "papermill": {
     "duration": 4.880833,
     "end_time": "2022-04-13T14:18:39.374984",
     "exception": false,
     "start_time": "2022-04-13T14:18:34.494151",
     "status": "completed"
    },
    "tags": []
   },
   "outputs": [
    {
     "data": {
      "application/javascript": [
       "parent.postMessage({\"jupyterEvent\": \"custom.exercise_interaction\", \"data\": {\"outcomeType\": 1, \"valueTowardsCompletion\": 0.14285714285714285, \"interactionType\": 1, \"questionType\": 1, \"questionId\": \"7_StarRatings\", \"learnToolsVersion\": \"0.3.4\", \"failureMessage\": \"\", \"exceptionClass\": \"\", \"trace\": \"\"}}, \"*\")"
      ],
      "text/plain": [
       "<IPython.core.display.Javascript object>"
      ]
     },
     "metadata": {},
     "output_type": "display_data"
    },
    {
     "data": {
      "text/markdown": [
       "<span style=\"color:#33cc33\">Correct</span>"
      ],
      "text/plain": [
       "Correct"
      ]
     },
     "metadata": {},
     "output_type": "display_data"
    }
   ],
   "source": [
    "def stars(row):\n",
    "    if row.country == 'Canada':\n",
    "        return 3\n",
    "    elif row.points >= 95:\n",
    "        return 3\n",
    "    elif row.points >= 85:\n",
    "        return 2\n",
    "    else:\n",
    "        return 1\n",
    "\n",
    "star_ratings = reviews.apply(stars, axis='columns')\n",
    "\n",
    "# Check your answer\n",
    "q7.check()"
   ]
  },
  {
   "cell_type": "code",
   "execution_count": 16,
   "id": "bd53c7e4",
   "metadata": {
    "execution": {
     "iopub.execute_input": "2022-04-13T14:18:39.444911Z",
     "iopub.status.busy": "2022-04-13T14:18:39.444272Z",
     "iopub.status.idle": "2022-04-13T14:18:39.446849Z",
     "shell.execute_reply": "2022-04-13T14:18:39.447363Z",
     "shell.execute_reply.started": "2022-04-13T14:17:24.061740Z"
    },
    "papermill": {
     "duration": 0.038938,
     "end_time": "2022-04-13T14:18:39.447514",
     "exception": false,
     "start_time": "2022-04-13T14:18:39.408576",
     "status": "completed"
    },
    "tags": []
   },
   "outputs": [],
   "source": [
    "#q7.hint()\n",
    "#q7.solution()"
   ]
  },
  {
   "cell_type": "markdown",
   "id": "dfd8bdec",
   "metadata": {
    "papermill": {
     "duration": 0.033346,
     "end_time": "2022-04-13T14:18:39.514689",
     "exception": false,
     "start_time": "2022-04-13T14:18:39.481343",
     "status": "completed"
    },
    "tags": []
   },
   "source": [
    "# Keep going\n",
    "Continue to **[grouping and sorting](https://www.kaggle.com/residentmario/grouping-and-sorting)**."
   ]
  },
  {
   "cell_type": "markdown",
   "id": "80b35bb3",
   "metadata": {
    "papermill": {
     "duration": 0.032809,
     "end_time": "2022-04-13T14:18:39.580962",
     "exception": false,
     "start_time": "2022-04-13T14:18:39.548153",
     "status": "completed"
    },
    "tags": []
   },
   "source": [
    "---\n",
    "\n",
    "\n",
    "\n",
    "\n",
    "*Have questions or comments? Visit the [course discussion forum](https://www.kaggle.com/learn/pandas/discussion) to chat with other learners.*"
   ]
  }
 ],
 "metadata": {
  "kernelspec": {
   "display_name": "Python 3",
   "language": "python",
   "name": "python3"
  },
  "language_info": {
   "codemirror_mode": {
    "name": "ipython",
    "version": 3
   },
   "file_extension": ".py",
   "mimetype": "text/x-python",
   "name": "python",
   "nbconvert_exporter": "python",
   "pygments_lexer": "ipython3",
   "version": "3.7.12"
  },
  "papermill": {
   "default_parameters": {},
   "duration": 24.653919,
   "end_time": "2022-04-13T14:18:40.223397",
   "environment_variables": {},
   "exception": null,
   "input_path": "__notebook__.ipynb",
   "output_path": "__notebook__.ipynb",
   "parameters": {},
   "start_time": "2022-04-13T14:18:15.569478",
   "version": "2.3.3"
  }
 },
 "nbformat": 4,
 "nbformat_minor": 5
}
